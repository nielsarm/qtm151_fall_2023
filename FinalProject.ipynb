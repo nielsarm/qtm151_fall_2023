{
 "cells": [
  {
   "cell_type": "markdown",
   "metadata": {},
   "source": [
    "<h1 style=\"text-align: center; color: purple;\" markdown=\"1\">Predicting Results in F1 Based on Grid Position and Driver Age</h1>\n",
    "<h2 style=\"text-align: center; color: purple;\" markdown=\"1\">Niels Armbruster, Emi Lundberg, Max Shumway, Max Troilo</h2>\n"
   ]
  },
  {
   "cell_type": "markdown",
   "metadata": {},
   "source": [
    "Formula 1 is the highest level of racing in the world, with drivers from various different countries competing at a very high level. Recently, it has become much more popular in the United States, as races have began to take place in Miami, Austin, and Las Vegas. Generally speaking, the structure of a Formula 1 race is broken down into two sections, the qualifying and the actual race. In the qualifying, drivers race on the track alone, and whoever has the quickest time is placed first in the grid at the beginning of the race, which is typically thought of as a signifigant advantage. Additionally, Formula 1 is not only diverse in the nations represented, but also ages. As it does not require as much athletic ability as other sports, we see much older drivers competing. As such, we are interested in running a regression to see how much the grid position and age play a factor in predicting the position result. We beleive that these two topics are especially relavent as we contend that being placed near the beginning of the grid has a signifigant effect on the finishing position, and that older age results in a lower finishing position due to decreased reflexes. Additionally, we are interested in comparing these results, especially for grid position, to one of the most iconic circuits at Monaco. \n",
    "\n",
    "In order to test the signifigance of grid position and age on finishes in F1, we will run a linear regression using the statsmodels.formula.api package, which will give us estimates for the beta values and their respective standard errors. First, we begin our project by merging some of the datasets provided (detailed below), and use conversions to datetime format to compute ages for the drivers at each race. Additionally, we investigate further into the age distribution of drivers in F1, and how some of the top drivers grid positions compare. "
   ]
  },
  {
   "cell_type": "markdown",
   "metadata": {},
   "source": [
    "<h2 style=\"text-align: center; color: purple;\" markdown=\"1\">Data Description</h2>\n"
   ]
  },
  {
   "cell_type": "markdown",
   "metadata": {},
   "source": [
    "For this model, we are interested in data from the drivers, races, and results datasets. The drivers dataset contains 855 observations, where each row represents a driver that has competed in some F1 competiton. We are interested in their date of birth, which we will convert to age later in the project. The races dataset includes 1080 observations, which are each unique races that have occured over the history of F1. We are interested in the year column, as that will help us calculate the age of the driver when the race took place. Lastly, we are interested in the results dataset. In this dataset, each row represents a specific race by a specific driver. In total, the dataset contains 25660 observations. In this dataset, we are most interested in the grid and positionOrder columns. The grid column gives the number for the order that each driver is lined up at in the beginning of the race based on qualification speed. For example, the first driver would have a grid number of 1, and the worst driver in qualification would have the same number as the amount of racers. The positionOrder column simply gives the number for the order of finishing in the race. All three of these datasets contain information from 1950 to 2022. "
   ]
  },
  {
   "cell_type": "markdown",
   "metadata": {},
   "source": [
    "<h2 style=\"text-align: center; color: purple;\" markdown=\"1\">Merging Procedures and Descriptive Statistics</h2>\n"
   ]
  },
  {
   "cell_type": "code",
   "execution_count": 1,
   "metadata": {},
   "outputs": [],
   "source": [
    "import pandas as pd\n",
    "import numpy as np\n",
    "import matplotlib.pyplot as plt\n",
    "import statsmodels.formula.api as smf\n"
   ]
  },
  {
   "cell_type": "code",
   "execution_count": 2,
   "metadata": {},
   "outputs": [],
   "source": [
    "drivers = pd.read_csv('/Users/nielsarmbruster/Downloads/archive/drivers.csv')"
   ]
  },
  {
   "cell_type": "code",
   "execution_count": 10,
   "metadata": {},
   "outputs": [],
   "source": [
    "races = pd.read_csv('/Users/nielsarmbruster/Downloads/archive/races.csv')\n",
    "results = pd.read_csv('/Users/nielsarmbruster/Downloads/archive/results.csv')\n",
    "merged_data = pd.merge(results,drivers[[\"driverId\",\"dob\"]], on='driverId', how='left')\n",
    "merged_data2 = pd.merge(merged_data,races[['raceId','date','circuitId']], on='raceId', how='left')\n",
    "merged_data2[\"dob\"] = pd.to_datetime(merged_data2[\"dob\"])\n",
    "merged_data2[\"date\"] = pd.to_datetime(merged_data2[\"date\"])\n",
    "\n",
    "merged_data2.dtypes\n",
    "\n",
    "born = merged_data2[\"dob\"]\n",
    "date_at_race = merged_data2[\"date\"]\n",
    "\n",
    "for a in range (0, len(merged_data2)):\n",
    "     merged_data2.loc[a, \"Age\"] = date_at_race[a].year - born[a].year - ((date_at_race[a].month, \n",
    "                                           date_at_race[a].day) < (born[a].month, \n",
    "                                                         born[a].day))"
   ]
  },
  {
   "cell_type": "code",
   "execution_count": 4,
   "metadata": {},
   "outputs": [
    {
     "data": {
      "text/plain": [
       "count    25660.000000\n",
       "mean        29.548402\n",
       "std          5.254907\n",
       "min         17.000000\n",
       "25%         26.000000\n",
       "50%         29.000000\n",
       "75%         33.000000\n",
       "max         58.000000\n",
       "Name: Age, dtype: float64"
      ]
     },
     "execution_count": 4,
     "metadata": {},
     "output_type": "execute_result"
    }
   ],
   "source": [
    "merged_data2[\"Age\"].describe()"
   ]
  },
  {
   "cell_type": "markdown",
   "metadata": {},
   "source": [
    "When using the describe function, we can easily see the important descriptive statistics for the column. Here, we see that mean age for drivers at the time of racing is 29 and a half years, which is interesting as it seems that there is some benefit to having some experience but also not being too old. Also, we see that the min and max are 17 and 58 respectively. It is noteworthy that the drivers age ranges so much as this is quite unlike other sports, and there may be a signifigant impact of age on position based on experience. Lastly, we see that the interquartile range is between 26 and 33 which suggests that drivers beleive that being in this age range gives the best chance of success. "
   ]
  },
  {
   "cell_type": "code",
   "execution_count": 5,
   "metadata": {},
   "outputs": [
    {
     "data": {
      "text/plain": [
       "count    25660.000000\n",
       "mean        11.187256\n",
       "std          7.251983\n",
       "min          0.000000\n",
       "25%          5.000000\n",
       "50%         11.000000\n",
       "75%         17.000000\n",
       "max         34.000000\n",
       "Name: grid, dtype: float64"
      ]
     },
     "execution_count": 5,
     "metadata": {},
     "output_type": "execute_result"
    }
   ],
   "source": [
    "merged_data2[\"grid\"].describe()"
   ]
  },
  {
   "cell_type": "markdown",
   "metadata": {},
   "source": [
    "Here, we see that the mean position for grid is roughly 11, which makes sense as F1 races typically include 20 drivers. We see that the min and max are 0 and 34 respectively. The min being 0 may be evidence of poor data collection or a change in the way of numbering the grid positions, as nowadays the lowest grid position number is 1. Additionally, it is interesting that the max is 34, which suggests that there have been some races where there have been up to 34 contestants, and potentially more. "
   ]
  },
  {
   "cell_type": "code",
   "execution_count": 6,
   "metadata": {},
   "outputs": [
    {
     "data": {
      "text/plain": [
       "count    25660.000000\n",
       "mean        12.892673\n",
       "std          7.721729\n",
       "min          1.000000\n",
       "25%          6.000000\n",
       "50%         12.000000\n",
       "75%         18.000000\n",
       "max         39.000000\n",
       "Name: positionOrder, dtype: float64"
      ]
     },
     "execution_count": 6,
     "metadata": {},
     "output_type": "execute_result"
    }
   ],
   "source": [
    "merged_data2[\"positionOrder\"].describe()"
   ]
  },
  {
   "cell_type": "markdown",
   "metadata": {},
   "source": [
    "Here, we see similar results as the descriptive statistics for the grid position column. The positionOrder column has a mean of 12.89, which makes sense as there are typically near 20 drivers in each F1 race. It is logical that the min is 1, as it is impossible to score higher than first place. It is noteworthy that the max is 39, as there must have been at least one race where 39 drivers competed. "
   ]
  },
  {
   "cell_type": "markdown",
   "metadata": {},
   "source": [
    "In the code above, we employed two different merges. The first merge connects the results table to the driverId and dob columns for the drivers table, which essentially just adds the dob column as they are merged on driverId. This merge is joined on the left. \n",
    "\n",
    "For the second merge, we merge our previous merge again to the races dataset in this instance. We only include the raceId, the circuitId, and date columns from the races data as we simply want to add the date and circuitId column to our previous merged data. Thus, we merge on raceId on the left. \n",
    "\n",
    "With all of this data in one dataframe, we are able to calculate the age of each driver at each race by using a for loop and converting the dob and date columns to datetime format. From this, we generate a new column with the age of each driver in the merged dataframe. "
   ]
  },
  {
   "cell_type": "markdown",
   "metadata": {},
   "source": [
    "<h2 style=\"text-align: center; color: purple;\" markdown=\"1\">Regression Results</h2>\n"
   ]
  },
  {
   "cell_type": "code",
   "execution_count": 7,
   "metadata": {},
   "outputs": [
    {
     "name": "stdout",
     "output_type": "stream",
     "text": [
      "                            OLS Regression Results                            \n",
      "==============================================================================\n",
      "Dep. Variable:          positionOrder   R-squared:                       0.024\n",
      "Model:                            OLS   Adj. R-squared:                  0.024\n",
      "Method:                 Least Squares   F-statistic:                     316.7\n",
      "Date:                Tue, 21 Nov 2023   Prob (F-statistic):          1.30e-136\n",
      "Time:                        15:29:36   Log-Likelihood:                -88547.\n",
      "No. Observations:               25660   AIC:                         1.771e+05\n",
      "Df Residuals:                   25657   BIC:                         1.771e+05\n",
      "Df Model:                           2                                         \n",
      "Covariance Type:            nonrobust                                         \n",
      "==============================================================================\n",
      "                 coef    std err          t      P>|t|      [0.025      0.975]\n",
      "------------------------------------------------------------------------------\n",
      "Intercept     12.2095      0.286     42.694      0.000      11.649      12.770\n",
      "grid           0.1615      0.007     24.549      0.000       0.149       0.174\n",
      "Age           -0.0380      0.009     -4.188      0.000      -0.056      -0.020\n",
      "==============================================================================\n",
      "Omnibus:                     1571.205   Durbin-Watson:                   0.407\n",
      "Prob(Omnibus):                  0.000   Jarque-Bera (JB):             1879.334\n",
      "Skew:                           0.663   Prob(JB):                         0.00\n",
      "Kurtosis:                       2.954   Cond. No.                         193.\n",
      "==============================================================================\n",
      "\n",
      "Notes:\n",
      "[1] Standard Errors assume that the covariance matrix of the errors is correctly specified.\n"
     ]
    }
   ],
   "source": [
    "reg = smf.ols('positionOrder ~ grid + Age', data=merged_data2).fit()\n",
    "print(reg.summary())"
   ]
  },
  {
   "cell_type": "markdown",
   "metadata": {},
   "source": [
    "From these regression results, we can see that for each position higher a driver is in the grid, they can expect to finish .1615 positions higher, which means that a higher grid position results in a higher final position. Also, we see that for every year older a driver is, we expect that they will have a position decrease by .0380, meaning that age is negatively correlated with position order, and that older drivers fare better in F1.\n",
    "\n",
    "In reading the table results in the P>|t| column, we see that the values for both variables are 0.000, which informs us that both variables are statistically signifigant at all conventional confidence levels. Thus, we can reject the null hypotheses that grid positon and age have no effect on position order and instead conclude that grid position has a positive effect on position order, and that age has a negative effect. \n",
    "\n"
   ]
  },
  {
   "cell_type": "code",
   "execution_count": 14,
   "metadata": {},
   "outputs": [
    {
     "name": "stdout",
     "output_type": "stream",
     "text": [
      "                            OLS Regression Results                            \n",
      "==============================================================================\n",
      "Dep. Variable:          positionOrder   R-squared:                       0.006\n",
      "Model:                            OLS   Adj. R-squared:                  0.005\n",
      "Method:                 Least Squares   F-statistic:                     5.027\n",
      "Date:                Tue, 21 Nov 2023   Prob (F-statistic):            0.00666\n",
      "Time:                        15:37:02   Log-Likelihood:                -5593.8\n",
      "No. Observations:                1624   AIC:                         1.119e+04\n",
      "Df Residuals:                    1621   BIC:                         1.121e+04\n",
      "Df Model:                           2                                         \n",
      "Covariance Type:            nonrobust                                         \n",
      "==============================================================================\n",
      "                 coef    std err          t      P>|t|      [0.025      0.975]\n",
      "------------------------------------------------------------------------------\n",
      "Intercept     15.7381      1.134     13.876      0.000      13.513      17.963\n",
      "grid          -0.0661      0.027     -2.452      0.014      -0.119      -0.013\n",
      "Age           -0.0790      0.036     -2.194      0.028      -0.150      -0.008\n",
      "==============================================================================\n",
      "Omnibus:                       74.970   Durbin-Watson:                   0.419\n",
      "Prob(Omnibus):                  0.000   Jarque-Bera (JB):               46.390\n",
      "Skew:                           0.279   Prob(JB):                     8.45e-11\n",
      "Kurtosis:                       2.387   Cond. No.                         191.\n",
      "==============================================================================\n",
      "\n",
      "Notes:\n",
      "[1] Standard Errors assume that the covariance matrix of the errors is correctly specified.\n"
     ]
    }
   ],
   "source": [
    "merged_data2_monaco = merged_data2[merged_data2[\"circuitId\"] == 6]\n",
    "reg_monaco = smf.ols('positionOrder ~ grid + Age', data=merged_data2_monaco).fit()\n",
    "print(reg_monaco.summary())"
   ]
  },
  {
   "cell_type": "markdown",
   "metadata": {},
   "source": [
    "The Monaco circuit is one of the most famous F1 races as it takes place in one of the smallest countries on the world. The track itself is not very wide, and there are not many opportunites for passing, so F1 spectators typically beleive that the grid position is far more important in predicting the final position of racers. In the regression above, the data is restricted to just the Monaco circuit, and we see that the coeffecient for grid is now negative. Additionally, we see that P > |t| is .014, which says that it is statiscally signifigantly negative. This is noteworthy as we concluded before that grid had a statistically signifigant positive correlation for all circuits, but we see the opposite for Monaco. Furthermore, this suggests that the wideheld belief that grid position at Monaco has a strong positive correlation with final position has no statistical basis. "
   ]
  },
  {
   "cell_type": "markdown",
   "metadata": {},
   "source": [
    "<h2 style=\"text-align: center; color: purple;\" markdown=\"1\">Histogram Plot of Age of F1 Drivers</h2>\n"
   ]
  },
  {
   "cell_type": "code",
   "execution_count": 8,
   "metadata": {},
   "outputs": [
    {
     "data": {
      "image/png": "[encoded data removed]",
      "text/plain": [
       "<Figure size 640x480 with 1 Axes>"
      ]
     },
     "metadata": {},
     "output_type": "display_data"
    }
   ],
   "source": [
    "plt.hist(merged_data2[\"Age\"]);\n",
    "plt.xlabel(\"Age\");\n",
    "plt.ylabel(\"Frequency\");\n",
    "plt.title(\"Age of F1 Drivers\");"
   ]
  },
  {
   "cell_type": "markdown",
   "metadata": {},
   "source": [
    "Here, we can see that the age of drivers in F1 is fairly symmetric and approximately normal, with an average of around 28 years old. This is particularly interesting because our regression suggests that age is negatively correlated with position order, so we might expect a left tail as drivers do not join the competition until they are older for fear of lack of experience. Yet, we do not see this, which may suggest that young drivers are overconfident in their abilities. "
   ]
  },
  {
   "cell_type": "markdown",
   "metadata": {},
   "source": [
    "<h2 style=\"text-align: center; color: purple;\" markdown=\"1\">Lewis Hamilton vs Max Verstappen Grid Position Analysis</h2>\n"
   ]
  },
  {
   "cell_type": "code",
   "execution_count": 9,
   "metadata": {},
   "outputs": [
    {
     "data": {
      "image/png": "[encoded data removed]",
      "text/plain": [
       "<Figure size 640x480 with 1 Axes>"
      ]
     },
     "metadata": {},
     "output_type": "display_data"
    }
   ],
   "source": [
    "hamilton_data = merged_data2[merged_data2[\"driverId\"] == 1]\n",
    "verstappen_data = merged_data2[merged_data2[\"driverId\"] == 830]\n",
    "\n",
    "plt.hist(hamilton_data[\"grid\"], bins=20, alpha=0.5, label=\"Lewis Hamilton\")\n",
    "plt.hist(verstappen_data[\"grid\"], bins=20, alpha=0.5, label=\"Max Verstappen\")\n",
    "plt.xlabel(\"Grid Position\")\n",
    "plt.ylabel(\"Frequency\")\n",
    "plt.title(\"Grid Position Comparison: Lewis Hamilton vs Max Verstappen\")\n",
    "plt.legend()\n",
    "plt.show()"
   ]
  },
  {
   "cell_type": "markdown",
   "metadata": {},
   "source": [
    "In this plot, it is interesting to compare two of F1's most recent successful drivers, Lewis Hamilton and Max Verstappen. Over the past five years, they have been roughly equally succesful, so it is interesting to compare their distribution of grid positions. From the graph, we can see that Lewis Hamilton has qualified in the first grid position a much higher percentage of the time than Max Verstappen. The most logical explanation for this is that Lewis Hamilton is a better driver than Max Verstappen without other drivers on the track, and Verstappen is better than Hamilton when there are other drivers, given that they have both been equally succesful recently. "
   ]
  },
  {
   "cell_type": "markdown",
   "metadata": {},
   "source": [
    "<h2 style=\"text-align: center; color: purple;\" markdown=\"1\">Discussion</h2>\n"
   ]
  },
  {
   "cell_type": "markdown",
   "metadata": {},
   "source": [
    "In conclusion, this analysis provides valuable insight into how important qualification and age are in predicting results in F1. We see that there is a signifigant advantage to placing higher in qualification upon final race position, and that there is a benefit to being older in F1. These results could prove important to F1 teams who are attempting to optimize their car and driver selection to finish best in races. As we have demonstrated that grid position has a signigifant effect, F1 teams may consider altering their cars to be more aerodynamic during the qualification process where this no possibility to get in the slip stream of a driver that is ahead. Additionally, F1 teams could use the signifigance of the age variable to consider using drivers who have more experience, or doing a deeper dive into why older drivers have better final positions on average. "
   ]
  }
 ],
 "metadata": {
  "kernelspec": {
   "display_name": "base",
   "language": "python",
   "name": "python3"
  },
  "language_info": {
   "codemirror_mode": {
    "name": "ipython",
    "version": 3
   },
   "file_extension": ".py",
   "mimetype": "text/x-python",
   "name": "python",
   "nbconvert_exporter": "python",
   "pygments_lexer": "ipython3",
   "version": "3.11.6"
  },
  "orig_nbformat": 4
 },
 "nbformat": 4,
 "nbformat_minor": 2
}
