{
 "cells": [
  {
   "attachments": {},
   "cell_type": "markdown",
   "metadata": {},
   "source": [
    "# <span style=\"color:darkblue\"> Lecture 10: Application 1 - Linear Regression </span>\n",
    "\n",
    "<font size = \"5\">\n",
    "\n",
    "We will fit statistical models to data\n",
    "\n",
    "- I will give an intro with minimal stats background\n",
    "- See the optional lecture file for advanced users\n",
    "\n",
    "The primary goal is to practice previous commands"
   ]
  },
  {
   "attachments": {},
   "cell_type": "markdown",
   "metadata": {},
   "source": [
    "# <span style=\"color:darkblue\"> I. Import Libraries </span>\n"
   ]
  },
  {
   "cell_type": "code",
   "execution_count": 3,
   "metadata": {},
   "outputs": [],
   "source": [
    "# The \"pandas\" library is used for processing datasets\n",
    "# The \"numpy\" is for numeric observations and random numbers\n",
    "# The \"matplotlib.pyplot\" library is for creating graphs\n",
    "\n",
    "import pandas as pd\n",
    "import numpy as np\n",
    "import matplotlib.pyplot as plt\n"
   ]
  },
  {
   "attachments": {},
   "cell_type": "markdown",
   "metadata": {},
   "source": [
    "<font size = \"5\">\n",
    "\n",
    "Install the \"statsmodels\" library\n",
    "\n",
    "```conda activate qtm151```\n",
    "\n",
    "```conda install statsmodels```"
   ]
  },
  {
   "cell_type": "code",
   "execution_count": 1,
   "metadata": {},
   "outputs": [
    {
     "name": "stdout",
     "output_type": "stream",
     "text": [
      "Intel MKL WARNING: Support of Intel(R) Streaming SIMD Extensions 4.2 (Intel(R) SSE4.2) enabled only processors has been deprecated. Intel oneAPI Math Kernel Library 2025.0 will require Intel(R) Advanced Vector Extensions (Intel(R) AVX) instructions.\n",
      "Intel MKL WARNING: Support of Intel(R) Streaming SIMD Extensions 4.2 (Intel(R) SSE4.2) enabled only processors has been deprecated. Intel oneAPI Math Kernel Library 2025.0 will require Intel(R) Advanced Vector Extensions (Intel(R) AVX) instructions.\n"
     ]
    }
   ],
   "source": [
    "# We will \"alias\" two sublibraries in \"statsmodels\"\n",
    "# \"statsmodels.formula.api\" contains functions to estimate models\n",
    "# \"statsmodels.api\" contains general-use statistical options\n",
    "\n",
    "import statsmodels.api as sm\n",
    "import statsmodels.formula.api as smf\n"
   ]
  },
  {
   "attachments": {},
   "cell_type": "markdown",
   "metadata": {},
   "source": [
    "# <span style=\"color:darkblue\"> II. Generate simulated Data </span>\n",
    "\n",
    "<font size = \"5\">\n",
    "\n",
    "Create an empty dataset"
   ]
  },
  {
   "cell_type": "code",
   "execution_count": 4,
   "metadata": {},
   "outputs": [],
   "source": [
    "dataset = pd.DataFrame()"
   ]
  },
  {
   "attachments": {},
   "cell_type": "markdown",
   "metadata": {},
   "source": [
    "<font size = \"5\">\n",
    "\n",
    "Create two random variables of size ($n = 50$)"
   ]
  },
  {
   "cell_type": "code",
   "execution_count": 6,
   "metadata": {},
   "outputs": [],
   "source": [
    "n = 50\n",
    "np.random.seed(42)\n",
    "dataset[\"x\"] = np.random.normal(loc = 0,scale = 1, size = n)\n",
    "dataset[\"e\"] = np.random.normal(loc = 0,scale = 1, size = n)"
   ]
  },
  {
   "attachments": {},
   "cell_type": "markdown",
   "metadata": {},
   "source": [
    "<font size = \"5\">\n",
    "\n",
    "Create data from the linear model\n",
    "\n",
    "$ y = b_0 + b_1 x + e, \\qquad b_0 = 1, b_1 = 2.$"
   ]
  },
  {
   "cell_type": "code",
   "execution_count": 7,
   "metadata": {},
   "outputs": [],
   "source": [
    "# The number b0 is known as the \"intercept\"\n",
    "# The number b1 is known as the \"slope\"\n",
    "\n",
    "b0 = 1\n",
    "b1 = 2\n",
    "\n",
    "# We can compute formulas directly over dataset columns\n",
    "dataset[\"y\"] = b0 + b1 * dataset[\"x\"] + dataset[\"e\"]"
   ]
  },
  {
   "attachments": {},
   "cell_type": "markdown",
   "metadata": {},
   "source": [
    "<font size = \"5\">\n",
    "\n",
    "Compute the theoretically best fit line\n",
    "\n",
    "$ p = b_0 + b_1 x$"
   ]
  },
  {
   "cell_type": "code",
   "execution_count": 8,
   "metadata": {},
   "outputs": [],
   "source": [
    "dataset[\"p\"] = b0 + b1*dataset[\"x\"]"
   ]
  },
  {
   "attachments": {},
   "cell_type": "markdown",
   "metadata": {},
   "source": [
    "<font size = \"5\">\n",
    "\n",
    "Plot the data"
   ]
  },
  {
   "cell_type": "code",
   "execution_count": 9,
   "metadata": {},
   "outputs": [
    {
     "data": {
      "image/png": "[encoded data removed]",
      "text/plain": [
       "<Figure size 640x480 with 1 Axes>"
      ]
     },
     "metadata": {},
     "output_type": "display_data"
    }
   ],
   "source": [
    "plt.scatter(x = dataset[\"x\"], y = dataset[\"y\"])\n",
    "plt.plot(dataset[\"x\"],dataset[\"p\"], color = 'green')\n",
    "\n",
    "plt.xlabel(\"X Variable\")\n",
    "plt.ylabel(\"Y Variable\")\n",
    "plt.legend(labels = [\"Data points\", \"Best fit line\"])\n",
    "plt.show()\n"
   ]
  },
  {
   "attachments": {},
   "cell_type": "markdown",
   "metadata": {},
   "source": [
    "<font size = \"5\" >\n",
    "\n",
    "Try it yourself\n",
    "\n",
    "- Create a new dataset called $\\quad$```subset_above2``` \n",
    "- Subset records with $y \\ge 2$ using $\\quad$```.query()```\n",
    "- Count the original rows $\\quad$ ```len(dataset)```\n",
    "- Count the subsetted rows $\\quad$ ```len(subset_above2)```\n",
    "- Compute the proportion of subsetted observations\n"
   ]
  },
  {
   "cell_type": "code",
   "execution_count": 12,
   "metadata": {},
   "outputs": [
    {
     "data": {
      "text/plain": [
       "0.3"
      ]
     },
     "execution_count": 12,
     "metadata": {},
     "output_type": "execute_result"
    }
   ],
   "source": [
    "# Write your own code here\n",
    "subset_above2 = dataset.query('y>=2')\n",
    "len(dataset)\n",
    "len(subset_above2)\n",
    "len(subset_above2)/len(dataset)\n"
   ]
  },
  {
   "attachments": {},
   "cell_type": "markdown",
   "metadata": {},
   "source": [
    "<font size = \"5\">\n",
    "\n",
    "Try it yourself!\n",
    "\n",
    "- Store the sample mean of $y$ as $\\quad$ ```ybar```\n",
    "- Compute the standard deviation of $y$ $\\quad$ ```stdv_sample```\n",
    "- Use ```.query()``` to subset observations that satisfy\n",
    "\n",
    "$ \\qquad abs\\left(y - ybar \\right) \\le stdv\\_sample $\n",
    "\n",
    "$\\quad$ HINT: Use ```.mean()```,$\\text{ }$ ```.std()``` <br>\n",
    "$\\quad$ HINT: Use the globals  $\\ $ ```@xbar```,$\\text{ }$ ```@stdv_sample```"
   ]
  },
  {
   "cell_type": "code",
   "execution_count": 13,
   "metadata": {},
   "outputs": [
    {
     "data": {
      "text/html": [
       "<div>\n",
       "<style scoped>\n",
       "    .dataframe tbody tr th:only-of-type {\n",
       "        vertical-align: middle;\n",
       "    }\n",
       "\n",
       "    .dataframe tbody tr th {\n",
       "        vertical-align: top;\n",
       "    }\n",
       "\n",
       "    .dataframe thead th {\n",
       "        text-align: right;\n",
       "    }\n",
       "</style>\n",
       "<table border=\"1\" class=\"dataframe\">\n",
       "  <thead>\n",
       "    <tr style=\"text-align: right;\">\n",
       "      <th></th>\n",
       "      <th>x</th>\n",
       "      <th>e</th>\n",
       "      <th>y</th>\n",
       "      <th>p</th>\n",
       "    </tr>\n",
       "  </thead>\n",
       "  <tbody>\n",
       "    <tr>\n",
       "      <th>0</th>\n",
       "      <td>0.496714</td>\n",
       "      <td>0.324084</td>\n",
       "      <td>2.317512</td>\n",
       "      <td>1.993428</td>\n",
       "    </tr>\n",
       "    <tr>\n",
       "      <th>1</th>\n",
       "      <td>-0.138264</td>\n",
       "      <td>-0.385082</td>\n",
       "      <td>0.338389</td>\n",
       "      <td>0.723471</td>\n",
       "    </tr>\n",
       "    <tr>\n",
       "      <th>2</th>\n",
       "      <td>0.647689</td>\n",
       "      <td>-0.676922</td>\n",
       "      <td>1.618455</td>\n",
       "      <td>2.295377</td>\n",
       "    </tr>\n",
       "    <tr>\n",
       "      <th>4</th>\n",
       "      <td>-0.234153</td>\n",
       "      <td>1.031000</td>\n",
       "      <td>1.562693</td>\n",
       "      <td>0.531693</td>\n",
       "    </tr>\n",
       "    <tr>\n",
       "      <th>5</th>\n",
       "      <td>-0.234137</td>\n",
       "      <td>0.931280</td>\n",
       "      <td>1.463006</td>\n",
       "      <td>0.531726</td>\n",
       "    </tr>\n",
       "    <tr>\n",
       "      <th>7</th>\n",
       "      <td>0.767435</td>\n",
       "      <td>-0.309212</td>\n",
       "      <td>2.225657</td>\n",
       "      <td>2.534869</td>\n",
       "    </tr>\n",
       "    <tr>\n",
       "      <th>8</th>\n",
       "      <td>-0.469474</td>\n",
       "      <td>0.331263</td>\n",
       "      <td>0.392315</td>\n",
       "      <td>0.061051</td>\n",
       "    </tr>\n",
       "    <tr>\n",
       "      <th>10</th>\n",
       "      <td>-0.463418</td>\n",
       "      <td>-0.479174</td>\n",
       "      <td>-0.406010</td>\n",
       "      <td>0.073165</td>\n",
       "    </tr>\n",
       "    <tr>\n",
       "      <th>11</th>\n",
       "      <td>-0.465730</td>\n",
       "      <td>-0.185659</td>\n",
       "      <td>-0.117118</td>\n",
       "      <td>0.068540</td>\n",
       "    </tr>\n",
       "    <tr>\n",
       "      <th>12</th>\n",
       "      <td>0.241962</td>\n",
       "      <td>-1.106335</td>\n",
       "      <td>0.377590</td>\n",
       "      <td>1.483925</td>\n",
       "    </tr>\n",
       "    <tr>\n",
       "      <th>15</th>\n",
       "      <td>-0.562288</td>\n",
       "      <td>1.356240</td>\n",
       "      <td>1.231665</td>\n",
       "      <td>-0.124575</td>\n",
       "    </tr>\n",
       "    <tr>\n",
       "      <th>16</th>\n",
       "      <td>-1.012831</td>\n",
       "      <td>-0.072010</td>\n",
       "      <td>-1.097672</td>\n",
       "      <td>-1.025662</td>\n",
       "    </tr>\n",
       "    <tr>\n",
       "      <th>17</th>\n",
       "      <td>0.314247</td>\n",
       "      <td>1.003533</td>\n",
       "      <td>2.632028</td>\n",
       "      <td>1.628495</td>\n",
       "    </tr>\n",
       "    <tr>\n",
       "      <th>18</th>\n",
       "      <td>-0.908024</td>\n",
       "      <td>0.361636</td>\n",
       "      <td>-0.454412</td>\n",
       "      <td>-0.816048</td>\n",
       "    </tr>\n",
       "    <tr>\n",
       "      <th>21</th>\n",
       "      <td>-0.225776</td>\n",
       "      <td>1.538037</td>\n",
       "      <td>2.086484</td>\n",
       "      <td>0.548447</td>\n",
       "    </tr>\n",
       "    <tr>\n",
       "      <th>22</th>\n",
       "      <td>0.067528</td>\n",
       "      <td>-0.035826</td>\n",
       "      <td>1.099230</td>\n",
       "      <td>1.135056</td>\n",
       "    </tr>\n",
       "    <tr>\n",
       "      <th>23</th>\n",
       "      <td>-1.424748</td>\n",
       "      <td>1.564644</td>\n",
       "      <td>-0.284853</td>\n",
       "      <td>-1.849496</td>\n",
       "    </tr>\n",
       "    <tr>\n",
       "      <th>25</th>\n",
       "      <td>0.110923</td>\n",
       "      <td>0.821903</td>\n",
       "      <td>2.043748</td>\n",
       "      <td>1.221845</td>\n",
       "    </tr>\n",
       "    <tr>\n",
       "      <th>26</th>\n",
       "      <td>-1.150994</td>\n",
       "      <td>0.087047</td>\n",
       "      <td>-1.214940</td>\n",
       "      <td>-1.301987</td>\n",
       "    </tr>\n",
       "    <tr>\n",
       "      <th>27</th>\n",
       "      <td>0.375698</td>\n",
       "      <td>-0.299007</td>\n",
       "      <td>1.452389</td>\n",
       "      <td>1.751396</td>\n",
       "    </tr>\n",
       "    <tr>\n",
       "      <th>28</th>\n",
       "      <td>-0.600639</td>\n",
       "      <td>0.091761</td>\n",
       "      <td>-0.109517</td>\n",
       "      <td>-0.201277</td>\n",
       "    </tr>\n",
       "    <tr>\n",
       "      <th>29</th>\n",
       "      <td>-0.291694</td>\n",
       "      <td>-1.987569</td>\n",
       "      <td>-1.570956</td>\n",
       "      <td>0.416613</td>\n",
       "    </tr>\n",
       "    <tr>\n",
       "      <th>30</th>\n",
       "      <td>-0.601707</td>\n",
       "      <td>-0.219672</td>\n",
       "      <td>-0.423085</td>\n",
       "      <td>-0.203413</td>\n",
       "    </tr>\n",
       "    <tr>\n",
       "      <th>32</th>\n",
       "      <td>-0.013497</td>\n",
       "      <td>1.477894</td>\n",
       "      <td>2.450900</td>\n",
       "      <td>0.973006</td>\n",
       "    </tr>\n",
       "    <tr>\n",
       "      <th>34</th>\n",
       "      <td>0.822545</td>\n",
       "      <td>-0.808494</td>\n",
       "      <td>1.836596</td>\n",
       "      <td>2.645090</td>\n",
       "    </tr>\n",
       "    <tr>\n",
       "      <th>36</th>\n",
       "      <td>0.208864</td>\n",
       "      <td>0.915402</td>\n",
       "      <td>2.333129</td>\n",
       "      <td>1.417727</td>\n",
       "    </tr>\n",
       "    <tr>\n",
       "      <th>39</th>\n",
       "      <td>0.196861</td>\n",
       "      <td>0.513267</td>\n",
       "      <td>1.906990</td>\n",
       "      <td>1.393722</td>\n",
       "    </tr>\n",
       "    <tr>\n",
       "      <th>40</th>\n",
       "      <td>0.738467</td>\n",
       "      <td>0.097078</td>\n",
       "      <td>2.574011</td>\n",
       "      <td>2.476933</td>\n",
       "    </tr>\n",
       "    <tr>\n",
       "      <th>41</th>\n",
       "      <td>0.171368</td>\n",
       "      <td>0.968645</td>\n",
       "      <td>2.311382</td>\n",
       "      <td>1.342737</td>\n",
       "    </tr>\n",
       "    <tr>\n",
       "      <th>42</th>\n",
       "      <td>-0.115648</td>\n",
       "      <td>-0.702053</td>\n",
       "      <td>0.066650</td>\n",
       "      <td>0.768703</td>\n",
       "    </tr>\n",
       "    <tr>\n",
       "      <th>43</th>\n",
       "      <td>-0.301104</td>\n",
       "      <td>-0.327662</td>\n",
       "      <td>0.070130</td>\n",
       "      <td>0.397793</td>\n",
       "    </tr>\n",
       "    <tr>\n",
       "      <th>46</th>\n",
       "      <td>-0.460639</td>\n",
       "      <td>0.296120</td>\n",
       "      <td>0.374843</td>\n",
       "      <td>0.078722</td>\n",
       "    </tr>\n",
       "    <tr>\n",
       "      <th>48</th>\n",
       "      <td>0.343618</td>\n",
       "      <td>0.005113</td>\n",
       "      <td>1.692350</td>\n",
       "      <td>1.687237</td>\n",
       "    </tr>\n",
       "  </tbody>\n",
       "</table>\n",
       "</div>"
      ],
      "text/plain": [
       "           x         e         y         p\n",
       "0   0.496714  0.324084  2.317512  1.993428\n",
       "1  -0.138264 -0.385082  0.338389  0.723471\n",
       "2   0.647689 -0.676922  1.618455  2.295377\n",
       "4  -0.234153  1.031000  1.562693  0.531693\n",
       "5  -0.234137  0.931280  1.463006  0.531726\n",
       "7   0.767435 -0.309212  2.225657  2.534869\n",
       "8  -0.469474  0.331263  0.392315  0.061051\n",
       "10 -0.463418 -0.479174 -0.406010  0.073165\n",
       "11 -0.465730 -0.185659 -0.117118  0.068540\n",
       "12  0.241962 -1.106335  0.377590  1.483925\n",
       "15 -0.562288  1.356240  1.231665 -0.124575\n",
       "16 -1.012831 -0.072010 -1.097672 -1.025662\n",
       "17  0.314247  1.003533  2.632028  1.628495\n",
       "18 -0.908024  0.361636 -0.454412 -0.816048\n",
       "21 -0.225776  1.538037  2.086484  0.548447\n",
       "22  0.067528 -0.035826  1.099230  1.135056\n",
       "23 -1.424748  1.564644 -0.284853 -1.849496\n",
       "25  0.110923  0.821903  2.043748  1.221845\n",
       "26 -1.150994  0.087047 -1.214940 -1.301987\n",
       "27  0.375698 -0.299007  1.452389  1.751396\n",
       "28 -0.600639  0.091761 -0.109517 -0.201277\n",
       "29 -0.291694 -1.987569 -1.570956  0.416613\n",
       "30 -0.601707 -0.219672 -0.423085 -0.203413\n",
       "32 -0.013497  1.477894  2.450900  0.973006\n",
       "34  0.822545 -0.808494  1.836596  2.645090\n",
       "36  0.208864  0.915402  2.333129  1.417727\n",
       "39  0.196861  0.513267  1.906990  1.393722\n",
       "40  0.738467  0.097078  2.574011  2.476933\n",
       "41  0.171368  0.968645  2.311382  1.342737\n",
       "42 -0.115648 -0.702053  0.066650  0.768703\n",
       "43 -0.301104 -0.327662  0.070130  0.397793\n",
       "46 -0.460639  0.296120  0.374843  0.078722\n",
       "48  0.343618  0.005113  1.692350  1.687237"
      ]
     },
     "execution_count": 13,
     "metadata": {},
     "output_type": "execute_result"
    }
   ],
   "source": [
    "# Note: abs(...) is the absolute value function\n",
    "# Write your own code \n",
    "ybar = dataset['y'].mean()\n",
    "stdv_sample = dataset['y'].std()\n",
    "dataset.query('abs(y-@ybar)<=@stdv_sample')"
   ]
  },
  {
   "attachments": {},
   "cell_type": "markdown",
   "metadata": {},
   "source": [
    "# <span style=\"color:darkblue\"> II. Estimate the best fit line</span>\n"
   ]
  },
  {
   "attachments": {},
   "cell_type": "markdown",
   "metadata": {},
   "source": [
    "<font size = \"5\">\n",
    "\n",
    "We have data on $(y,x)$ but we don't know $(b_0,b_1, e)$"
   ]
  },
  {
   "attachments": {},
   "cell_type": "markdown",
   "metadata": {},
   "source": [
    "<font size = \"5\">\n",
    "\n",
    "Let's fit an OLS model\n",
    "\n",
    "- It's a statistical approach to get $(b_0,b_1)$\n",
    "- No need to know how it works but why we want it"
   ]
  },
  {
   "cell_type": "code",
   "execution_count": 16,
   "metadata": {},
   "outputs": [
    {
     "name": "stdout",
     "output_type": "stream",
     "text": [
      "Intel MKL WARNING: Support of Intel(R) Streaming SIMD Extensions 4.2 (Intel(R) SSE4.2) enabled only processors has been deprecated. Intel oneAPI Math Kernel Library 2025.0 will require Intel(R) Advanced Vector Extensions (Intel(R) AVX) instructions.\n"
     ]
    },
    {
     "data": {
      "text/plain": [
       "<statsmodels.regression.linear_model.RegressionResultsWrapper at 0x1334e7990>"
      ]
     },
     "execution_count": 16,
     "metadata": {},
     "output_type": "execute_result"
    }
   ],
   "source": [
    "#------------------------------------------------------------------------------#\n",
    "# We use the subfunction \"ols()\" in the library \"smf\"\n",
    "#---- (i) The first argument is a string called \"formula\" with the format \n",
    "#-------- \"outcome ~ indepdent_vars\"\n",
    "#----(ii) the second argument is the dataset\n",
    "# The second line fits the model with standard errors \"cov\". In this case we \n",
    "# use \"robust\" standard errors (HC1)\n",
    "#-------------------------------------------------------------------------------#\n",
    "\n",
    "model   = smf.ols(formula = 'y ~  x',data = dataset)\n",
    "results = model.fit(cov_type = \"HC1\")\n",
    "\n",
    "# Can also run as one line\n",
    "# results = smf.ols(formula = 'y ~ x',data = dataset).fit(cov = \"HC1\")\n"
   ]
  },
  {
   "cell_type": "code",
   "execution_count": 18,
   "metadata": {},
   "outputs": [
    {
     "data": {
      "text/html": [
       "<table class=\"simpletable\">\n",
       "<caption>OLS Regression Results</caption>\n",
       "<tr>\n",
       "  <th>Dep. Variable:</th>            <td>y</td>        <th>  R-squared:         </th> <td>   0.836</td>\n",
       "</tr>\n",
       "<tr>\n",
       "  <th>Model:</th>                   <td>OLS</td>       <th>  Adj. R-squared:    </th> <td>   0.833</td>\n",
       "</tr>\n",
       "<tr>\n",
       "  <th>Method:</th>             <td>Least Squares</td>  <th>  F-statistic:       </th> <td>   389.2</td>\n",
       "</tr>\n",
       "<tr>\n",
       "  <th>Date:</th>             <td>Wed, 04 Oct 2023</td> <th>  Prob (F-statistic):</th> <td>1.14e-24</td>\n",
       "</tr>\n",
       "<tr>\n",
       "  <th>Time:</th>                 <td>16:36:24</td>     <th>  Log-Likelihood:    </th> <td> -63.422</td>\n",
       "</tr>\n",
       "<tr>\n",
       "  <th>No. Observations:</th>      <td>    50</td>      <th>  AIC:               </th> <td>   130.8</td>\n",
       "</tr>\n",
       "<tr>\n",
       "  <th>Df Residuals:</th>          <td>    48</td>      <th>  BIC:               </th> <td>   134.7</td>\n",
       "</tr>\n",
       "<tr>\n",
       "  <th>Df Model:</th>              <td>     1</td>      <th>                     </th>     <td> </td>   \n",
       "</tr>\n",
       "<tr>\n",
       "  <th>Covariance Type:</th>         <td>HC1</td>       <th>                     </th>     <td> </td>   \n",
       "</tr>\n",
       "</table>\n",
       "<table class=\"simpletable\">\n",
       "<tr>\n",
       "      <td></td>         <th>coef</th>     <th>std err</th>      <th>z</th>      <th>P>|z|</th>  <th>[0.025</th>    <th>0.975]</th>  \n",
       "</tr>\n",
       "<tr>\n",
       "  <th>Intercept</th> <td>    1.0410</td> <td>    0.122</td> <td>    8.533</td> <td> 0.000</td> <td>    0.802</td> <td>    1.280</td>\n",
       "</tr>\n",
       "<tr>\n",
       "  <th>x</th>         <td>    2.1031</td> <td>    0.107</td> <td>   19.727</td> <td> 0.000</td> <td>    1.894</td> <td>    2.312</td>\n",
       "</tr>\n",
       "</table>\n",
       "<table class=\"simpletable\">\n",
       "<tr>\n",
       "  <th>Omnibus:</th>       <td> 3.643</td> <th>  Durbin-Watson:     </th> <td>   2.225</td>\n",
       "</tr>\n",
       "<tr>\n",
       "  <th>Prob(Omnibus):</th> <td> 0.162</td> <th>  Jarque-Bera (JB):  </th> <td>   2.563</td>\n",
       "</tr>\n",
       "<tr>\n",
       "  <th>Skew:</th>          <td>-0.464</td> <th>  Prob(JB):          </th> <td>   0.278</td>\n",
       "</tr>\n",
       "<tr>\n",
       "  <th>Kurtosis:</th>      <td> 3.608</td> <th>  Cond. No.          </th> <td>    1.28</td>\n",
       "</tr>\n",
       "</table><br/><br/>Notes:<br/>[1] Standard Errors are heteroscedasticity robust (HC1)"
      ],
      "text/latex": [
       "\\begin{center}\n",
       "\\begin{tabular}{lclc}\n",
       "\\toprule\n",
       "\\textbf{Dep. Variable:}    &        y         & \\textbf{  R-squared:         } &     0.836   \\\\\n",
       "\\textbf{Model:}            &       OLS        & \\textbf{  Adj. R-squared:    } &     0.833   \\\\\n",
       "\\textbf{Method:}           &  Least Squares   & \\textbf{  F-statistic:       } &     389.2   \\\\\n",
       "\\textbf{Date:}             & Wed, 04 Oct 2023 & \\textbf{  Prob (F-statistic):} &  1.14e-24   \\\\\n",
       "\\textbf{Time:}             &     16:36:24     & \\textbf{  Log-Likelihood:    } &   -63.422   \\\\\n",
       "\\textbf{No. Observations:} &          50      & \\textbf{  AIC:               } &     130.8   \\\\\n",
       "\\textbf{Df Residuals:}     &          48      & \\textbf{  BIC:               } &     134.7   \\\\\n",
       "\\textbf{Df Model:}         &           1      & \\textbf{                     } &             \\\\\n",
       "\\textbf{Covariance Type:}  &       HC1        & \\textbf{                     } &             \\\\\n",
       "\\bottomrule\n",
       "\\end{tabular}\n",
       "\\begin{tabular}{lcccccc}\n",
       "                   & \\textbf{coef} & \\textbf{std err} & \\textbf{z} & \\textbf{P$> |$z$|$} & \\textbf{[0.025} & \\textbf{0.975]}  \\\\\n",
       "\\midrule\n",
       "\\textbf{Intercept} &       1.0410  &        0.122     &     8.533  &         0.000        &        0.802    &        1.280     \\\\\n",
       "\\textbf{x}         &       2.1031  &        0.107     &    19.727  &         0.000        &        1.894    &        2.312     \\\\\n",
       "\\bottomrule\n",
       "\\end{tabular}\n",
       "\\begin{tabular}{lclc}\n",
       "\\textbf{Omnibus:}       &  3.643 & \\textbf{  Durbin-Watson:     } &    2.225  \\\\\n",
       "\\textbf{Prob(Omnibus):} &  0.162 & \\textbf{  Jarque-Bera (JB):  } &    2.563  \\\\\n",
       "\\textbf{Skew:}          & -0.464 & \\textbf{  Prob(JB):          } &    0.278  \\\\\n",
       "\\textbf{Kurtosis:}      &  3.608 & \\textbf{  Cond. No.          } &     1.28  \\\\\n",
       "\\bottomrule\n",
       "\\end{tabular}\n",
       "%\\caption{OLS Regression Results}\n",
       "\\end{center}\n",
       "\n",
       "Notes: \\newline\n",
       " [1] Standard Errors are heteroscedasticity robust (HC1)"
      ],
      "text/plain": [
       "<class 'statsmodels.iolib.summary.Summary'>\n",
       "\"\"\"\n",
       "                            OLS Regression Results                            \n",
       "==============================================================================\n",
       "Dep. Variable:                      y   R-squared:                       0.836\n",
       "Model:                            OLS   Adj. R-squared:                  0.833\n",
       "Method:                 Least Squares   F-statistic:                     389.2\n",
       "Date:                Wed, 04 Oct 2023   Prob (F-statistic):           1.14e-24\n",
       "Time:                        16:36:24   Log-Likelihood:                -63.422\n",
       "No. Observations:                  50   AIC:                             130.8\n",
       "Df Residuals:                      48   BIC:                             134.7\n",
       "Df Model:                           1                                         \n",
       "Covariance Type:                  HC1                                         \n",
       "==============================================================================\n",
       "                 coef    std err          z      P>|z|      [0.025      0.975]\n",
       "------------------------------------------------------------------------------\n",
       "Intercept      1.0410      0.122      8.533      0.000       0.802       1.280\n",
       "x              2.1031      0.107     19.727      0.000       1.894       2.312\n",
       "==============================================================================\n",
       "Omnibus:                        3.643   Durbin-Watson:                   2.225\n",
       "Prob(Omnibus):                  0.162   Jarque-Bera (JB):                2.563\n",
       "Skew:                          -0.464   Prob(JB):                        0.278\n",
       "Kurtosis:                       3.608   Cond. No.                         1.28\n",
       "==============================================================================\n",
       "\n",
       "Notes:\n",
       "[1] Standard Errors are heteroscedasticity robust (HC1)\n",
       "\"\"\""
      ]
     },
     "execution_count": 18,
     "metadata": {},
     "output_type": "execute_result"
    }
   ],
   "source": [
    "results.summary()"
   ]
  },
  {
   "attachments": {},
   "cell_type": "markdown",
   "metadata": {},
   "source": [
    "<font size = \"5\">\n",
    "\n",
    "Compute the estimated best fit line"
   ]
  },
  {
   "cell_type": "code",
   "execution_count": 19,
   "metadata": {},
   "outputs": [
    {
     "name": "stdout",
     "output_type": "stream",
     "text": [
      "Intercept    1.041022\n",
      "x            2.103076\n",
      "dtype: float64\n"
     ]
    },
    {
     "name": "stderr",
     "output_type": "stream",
     "text": [
      "/var/folders/mm/0rzlx36s0lqbh9krk_06z4q00000gn/T/ipykernel_55975/2237251491.py:9: FutureWarning: Series.__getitem__ treating keys as positions is deprecated. In a future version, integer keys will always be treated as labels (consistent with DataFrame behavior). To access a value by position, use `ser.iloc[pos]`\n",
      "  dataset[\"p_estimated\"] = b_list[0] + b_list[1]  * dataset[\"x\"]\n"
     ]
    }
   ],
   "source": [
    "# We will use \".params\" to get the attribute \"parameters from the results\"\n",
    "\n",
    "b_list = results.params\n",
    "print(b_list)\n",
    "\n",
    "# We can then compute the \"estimated\" best fit lines\n",
    "# by extracting the intercept and slop from \"b_list\"\n",
    "\n",
    "dataset[\"p_estimated\"] = b_list[0] + b_list[1]  * dataset[\"x\"]\n",
    "\n",
    "# Note: The estimators for \"b0\" and \"b1\" are close to \n",
    "# the values we used to generate the data\n"
   ]
  },
  {
   "attachments": {},
   "cell_type": "markdown",
   "metadata": {},
   "source": [
    "<font size = \"5\">\n",
    "\n",
    "Plot the best fit line"
   ]
  },
  {
   "cell_type": "code",
   "execution_count": 20,
   "metadata": {},
   "outputs": [
    {
     "data": {
      "image/png": "[encoded data removed]",
      "text/plain": [
       "<Figure size 640x480 with 1 Axes>"
      ]
     },
     "metadata": {},
     "output_type": "display_data"
    }
   ],
   "source": [
    "# Use scatter twice, with different \"y\" inputs\n",
    "# THe \"legend\" command creates a box on with the color labels\n",
    "\n",
    "plt.scatter(x = dataset[\"x\"],y = dataset[\"y\"])\n",
    "plt.plot(dataset[\"x\"],dataset[\"p_estimated\"], color = 'green')\n",
    "\n",
    "plt.legend(labels = [\"Data points\",\"Estimated Predicted Model\"])\n",
    "plt.show()\n"
   ]
  },
  {
   "attachments": {},
   "cell_type": "markdown",
   "metadata": {},
   "source": [
    "<font size = \"5\">\n",
    "\n",
    "Try it yourself!\n",
    "- How good is the estimated fit?\n",
    "- Create two overlapping lineplots\n",
    "- $(p \\text{ }$ vs $\\text{ } x)$ and $(p_{estimated} \\text{ }$ vs $\\text{ } x)$\n",
    "- Create a legend to label each plot"
   ]
  },
  {
   "cell_type": "code",
   "execution_count": 24,
   "metadata": {},
   "outputs": [
    {
     "data": {
      "image/png": "[encoded data removed]",
      "text/plain": [
       "<Figure size 640x480 with 1 Axes>"
      ]
     },
     "metadata": {},
     "output_type": "display_data"
    }
   ],
   "source": [
    "# Write your own code\n",
    "plt.plot(dataset[\"x\"],dataset[\"p\"], '-o',color = 'blue')\n",
    "plt.plot(dataset[\"x\"],dataset[\"p_estimated\"], '-o', color = 'green')\n",
    "\n",
    "plt.legend(labels = [\"Real Model\",\"Estimated Predicted Model\"])\n",
    "plt.show()"
   ]
  },
  {
   "attachments": {},
   "cell_type": "markdown",
   "metadata": {},
   "source": [
    "<font size = \"5\">\n",
    "\n",
    "Try it youself\n",
    "\n",
    "- Compute a column with the formula\n",
    "\n",
    "$\\quad$ ``` sample_error = y - p_estimated```\n",
    "\n",
    "- Create a lambda function <br>\n",
    "\n",
    "$\\quad$ ``` fn_positive_error = lambda error: error >= 0  ```\n",
    "\n",
    "- Compute a column for whether the error is positive <br>\n",
    "using ``` .apply()```\n",
    "\n"
   ]
  },
  {
   "cell_type": "code",
   "execution_count": 36,
   "metadata": {},
   "outputs": [],
   "source": [
    "# Write your own code\n"
   ]
  },
  {
   "attachments": {},
   "cell_type": "markdown",
   "metadata": {},
   "source": [
    "<font size = \"5\">\n",
    "\n",
    "Try it yourself\n",
    "\n",
    "- Compute a new column <br>\n",
    "\n",
    "```error_sqr = sample_error ** 2```\n",
    "\n",
    "- Calculate the mean of ```error_sqr```"
   ]
  },
  {
   "cell_type": "code",
   "execution_count": 37,
   "metadata": {},
   "outputs": [],
   "source": [
    "# Write your own code\n"
   ]
  }
 ],
 "metadata": {
  "kernelspec": {
   "display_name": "base",
   "language": "python",
   "name": "python3"
  },
  "language_info": {
   "codemirror_mode": {
    "name": "ipython",
    "version": 3
   },
   "file_extension": ".py",
   "mimetype": "text/x-python",
   "name": "python",
   "nbconvert_exporter": "python",
   "pygments_lexer": "ipython3",
   "version": "3.11.4"
  },
  "orig_nbformat": 4,
  "vscode": {
   "interpreter": {
    "hash": "45fc1f684f6f416f40889115beff3ddf69879b64cf4bfee48cb72a61e9d15d1a"
   }
  }
 },
 "nbformat": 4,
 "nbformat_minor": 2
}
